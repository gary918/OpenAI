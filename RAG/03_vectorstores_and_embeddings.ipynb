{
 "cells": [
  {
   "cell_type": "markdown",
   "id": "0d647f70",
   "metadata": {},
   "source": [
    "# Vectorstores and Embeddings\n",
    "\n",
    "Recall the overall workflow for retrieval augmented generation (RAG):"
   ]
  },
  {
   "cell_type": "code",
   "execution_count": 1,
   "id": "7f8d2266-4a35-4904-ae9d-c89790c5ae61",
   "metadata": {
    "height": 166,
    "tags": []
   },
   "outputs": [
    {
     "name": "stdout",
     "output_type": "stream",
     "text": [
      "gpt-35-turbo\n"
     ]
    }
   ],
   "source": [
    "import os\n",
    "import openai\n",
    "import sys\n",
    "sys.path.append('../..')\n",
    "\n",
    "from dotenv import load_dotenv, find_dotenv\n",
    "_ = load_dotenv(find_dotenv()) # read local .env file\n",
    "\n",
    "openai.api_type = os.environ['OPENAI_API_TYPE']\n",
    "openai.api_version = os.environ['OPENAI_API_VERSION']\n",
    "openai.api_base = os.environ['OPENAI_API_BASE']\n",
    "openai.api_key = os.environ['OPENAI_API_KEY']\n",
    "\n",
    "llm_model = os.environ['OPENAI_ENGINE']\n",
    "print(llm_model)"
   ]
  },
  {
   "cell_type": "markdown",
   "id": "460a54b0",
   "metadata": {},
   "source": [
    "We just discussed `Document Loading` and `Splitting`."
   ]
  },
  {
   "cell_type": "code",
   "execution_count": 2,
   "id": "2437469e",
   "metadata": {
    "height": 234,
    "tags": []
   },
   "outputs": [],
   "source": [
    "from langchain.document_loaders import PyPDFLoader\n",
    "\n",
    "# Load PDF\n",
    "loaders = [\n",
    "    # Duplicate documents on purpose - messy data\n",
    "    PyPDFLoader(\"./EN-EmployeeBook.pdf\")\n",
    "]\n",
    "docs = []\n",
    "for loader in loaders:\n",
    "    docs.extend(loader.load())"
   ]
  },
  {
   "cell_type": "code",
   "execution_count": 3,
   "id": "eb44bf0d",
   "metadata": {
    "height": 115,
    "tags": []
   },
   "outputs": [],
   "source": [
    "# Split\n",
    "from langchain.text_splitter import RecursiveCharacterTextSplitter\n",
    "text_splitter = RecursiveCharacterTextSplitter(\n",
    "    chunk_size = 1500,\n",
    "    chunk_overlap = 150\n",
    ")"
   ]
  },
  {
   "cell_type": "code",
   "execution_count": 4,
   "id": "b71e46cc",
   "metadata": {
    "height": 30,
    "tags": []
   },
   "outputs": [],
   "source": [
    "splits = text_splitter.split_documents(docs)"
   ]
  },
  {
   "cell_type": "code",
   "execution_count": 5,
   "id": "e061f22d",
   "metadata": {
    "height": 30,
    "tags": []
   },
   "outputs": [
    {
     "data": {
      "text/plain": [
       "38"
      ]
     },
     "execution_count": 5,
     "metadata": {},
     "output_type": "execute_result"
    }
   ],
   "source": [
    "len(splits)"
   ]
  },
  {
   "cell_type": "code",
   "execution_count": 6,
   "id": "6f9a1d26",
   "metadata": {},
   "outputs": [
    {
     "name": "stdout",
     "output_type": "stream",
     "text": [
      "[Document(page_content='1 \\n 微软 Confidential           \\n \\n \\n \\n \\n \\nEmployee’s Personal Information Processing  Policy  \\n of Microsoft China  \\n \\n \\n \\n \\n \\n \\n \\n \\n \\nVersion Date : July 2022', metadata={'source': './EN-EmployeeBook.pdf', 'page': 0}), Document(page_content='2 \\n 微软 Confidential          Contents  \\n \\n1.Overview  ................................ ................................ ................................ ................................ ............................ 3 \\n2.Personal Data that Company Processes  ................................ ................................ ................................ .............. 4 \\n3.Why Company Processes Personal Data  ................................ ................................ ................................ ............ 6 \\n4.Change of Purpose  ................................ ................................ ................................ ................................ ............. 7 \\n5.How and Why Company Shares Personal Data  ................................ ................................ ................................ .7 \\n6.Use of Cookies and We b Beacons  ................................ ................................ ................................ ..................... 8 \\n7.Workplace Security and Monitoring  ................................ ................................ ................................ .................. 8 \\n8.Security of Personal Data  ................................ ................................ ................................ ................................ ...9 \\n9.Cross -Border Transfer of Employee’s Personal Data  ................................ ................................ ........................ 9', metadata={'source': './EN-EmployeeBook.pdf', 'page': 1}), Document(page_content='9.Cross -Border Transfer of Employee’s Personal Data  ................................ ................................ ........................ 9 \\n10.Company’s Retention of Personal Data  ................................ ................................ ................................ ......... 10 \\n11.Employee’s Rights to Personal Data  ................................ ................................ ................................ .............. 10 \\n12.Changes to this Policy  ................................ ................................ ................................ ................................ ....10 \\n13.Learning and Skills Data Addendum  ................................ ................................ ................................ ............. 11 \\n14.Microsoft Data Program (MDP) Addendum  ................................ ................................ ................................ ..14 \\n15.How to Contact Us  ................................ ................................ ................................ ................................ ......... 15', metadata={'source': './EN-EmployeeBook.pdf', 'page': 1}), Document(page_content='3 \\n 微软 Confidential          1.Overview  \\n(1) Purpose : The purpose of the formulation of this policy is to clarify the situations of Microsoft (China) Co., \\nLtd. and its branches, Microsoft Asia Pacific Technology Co., Ltd. and other Microsoft employers in China \\n(hereinafter referred to as \"Company\" )  dealing with the Employee’s personal information ( hereinafter referred \\nto as \"personal information\" or \"personal data\"), and regulate Company\\'s behavior in processing Employees\\' \\npersonal information. This policy, together with the Microsoft Global Data Privacy Notice for Employees, \\nExternal Staff, Candidates and Guests  (hereinafter referred to as “ Privacy  Notice ”) and  other notices provided \\nat the time of data collection, explain what personal data Company collects about Employees, how Company \\nuses this personal data, and the Employee’s rights to this personal data.  \\n(2) Scope of application: This policy applies to Employees who have signed employment  contract with \\nMicrosoft (China) Co., Ltd. and its branches, Microsoft Asia Pacific Technology Co., Ltd.,  and other \\nMicrosoft employers in China, as well as other Employee s employed by Microsoft entities who are assigned to \\nwork in mainland China. ( hereinafter referred to as \"Employee ”)  \\n(3) Processing principle  and legal grounds : Employee’s privacy is important to Company. Company respects \\nthe privacy rights of all Employe es and Company is committed to  process  Employees’ personal data in', metadata={'source': './EN-EmployeeBook.pdf', 'page': 2}), Document(page_content='the privacy rights of all Employe es and Company is committed to  process  Employees’ personal data in \\naccordance with applicable laws, including but not limited to Personal Information Protection Law of People\\'s \\nRepublic of China.  Company process es personal data of Employees with a lawful proc essing basis as provided \\nunder applicable China l aws. \\nSpecial Note: In addition to this policy, Microsoft global has developed principles, policies and statements \\nabout privacy protection.  Company and Employee s need to continue to abide by the r elevant principles, \\npolicies and statements. For explanations of these principles, please refer to the link: \\nhttps://privacy.microsoft.com/en -us; for Microsoft\\'s privacy p olicy, please refer to the \"Privacy Policy\" link: \\nhttps://microsoft.sharepoint.com/sites/mspolicy/SitePages/PolicyProcedure. aspx?policyprocedureid=MSPOLI\\nCY-804079558 -5; regarding the Privacy Statement for Employee’s personal data, please refer to \"Microsoft \\nGlobal Data Privacy Notice for Employees, External Staff, Candidates and Guests\" link:  \\nhttps://privacy.microsoft.com/en -US/data -privacy -notice . Employees  may also visit the following internal \\nresource sites, such as the Privacy 101 - Hom e (sharepoint.com) link: Privacy - Home (sharepoint.com)  to \\nlearn more about Company\\'s policies and practices about privacy.  \\nNote : This policy does not cover Employee’s use of Microsoft consumer products as a consumer , or outside of', metadata={'source': './EN-EmployeeBook.pdf', 'page': 2}), Document(page_content='Note : This policy does not cover Employee’s use of Microsoft consumer products as a consumer , or outside of \\nthe employment or assignment with Microsoft . This policy is not intended and shall not be read to create any \\nexpress or implied promise or contract for any benefit, or for specific treatment in specific situations. Nothing \\nin this policy should be construed to interfere with Microsoft’s or Company’s ability to process Employee’s \\ndata for purposes of complying with its legal obligations, or for investigating alleged misconduct or viol ations \\nof Company’s policy or law, subject to compliance with local legal requirements.', metadata={'source': './EN-EmployeeBook.pdf', 'page': 2}), Document(page_content='4 \\n 微软 Confidential          2.Personal Data that Company Process es  \\n(This may include data that Employee provides to Company, that Company collects about Employee, or that \\nCompany assigns to Employee.)  \\nCompany processes personal data about  Employee  (and Employee’s  dependents, beneficiaries and other \\nindividuals associated with Employee’s  employment) primarily for managing Company’s employment \\nrelationship with E mployee  and E mployee’s  workplace facilities/information systems interactions. As to  a \\nformer Employee, Company processes personal data about a former Employee primarily f or legal compliance  \\nreasons , etc.  \\nThe personal data Company processes can include, but is not limited to, the following , \\nName and contact data. Employee’s first and last name, Employee identification number, email address, \\nmailing address, phone number, p hoto, beneficiary and emergency contact details, and other similar contact \\ndata. Additionally, Employee may opt to provide Company with additional contact information such as \\npersonal email address and/or cell phone number.  \\nDemographic data.  Employee’s dat e of birth and gender as well as more sensitive personal data (also known \\nas special category data) including , but not limited to,  information about Employee’s health. Company may \\nalso ask about Employee’s parental status and military status.  \\nCompany’s rea sons for processing this data include ,', metadata={'source': './EN-EmployeeBook.pdf', 'page': 3}), Document(page_content='also ask about Employee’s parental status and military status.  \\nCompany’s rea sons for processing this data include , \\n(1) Where  it is necessary to comply with local requirements and applicable law. For example, Company may \\nuse this information to comply with anti -discrimination laws and government reporting obligations;  \\n(2) To  monitor and ensure diversity and equal treatment and opportunity;  \\n(3) To  provide work -related accommodations or adjustments, to provide health and insurance benefits to \\nEmployee and to Employee’s dependents and to manage absences from work.  \\nWhere the proc essing of this personal data is not required by law,  Company will seek Employee’s consent to \\nprocess Employee’s data and, in the consent mechanism, Company will explain  the purposes for which \\nEmployee’s data will be used. This will be voluntary , and Employ ee may decide whether or not to give \\nconsent.  \\nNational identifiers. Employee’s national ID/passport, citizenship status, residency and work permit status, \\nsocial security number, or other taxpayer/government identification number, information needed for so cial \\ninsurance and housing provident fund contributions.  \\nEmployment details. Employee’s job title/position, office location, employment contract, offer letter, hire \\ndate, termination date, performance history and disciplinary records,  training records,  leave of absence, sick \\ntime, and vacation/holiday records .', metadata={'source': './EN-EmployeeBook.pdf', 'page': 3}), Document(page_content='time, and vacation/holiday records . \\nSpouse’s/partner’s and dependents’ information.  Employee’s spouse and dependents’ first and last names, \\ndates of birth, and contact details, the  household registration information and social relations  of family \\nmembers.', metadata={'source': './EN-EmployeeBook.pdf', 'page': 3}), Document(page_content='5 \\n 微软 Confidential          Background information.  Employee’s academic and professional qualifications, education, CV/Resume, \\ncurrent and former employment status , credit history and criminal records data (utilized for background \\nscreening  and vetting purposes where permissible and in accordance with applicable law or results of  \\nconsultation ). \\nVideo, voice and image. Company may collect and use Employee’s video, voice and image data, subject to \\nthe requirements of local law, internal policy, or any requirements from  consulting  with worker representatives \\n(where applicable ). \\nFinancial information.  Employee’s bank account details, tax information, salary, retirement account \\ninformation, company allowances and other information necessary to administer payroll, taxes and benefits,  \\nusing and payment information of corporate  credit card, related informa tion of business trip and \\nreimbursement, etc.  \\nLearning and Skills Data.  As described in the Learning and Skills Data Addendum.  \\nFeedback and sen timent  data. Employee’s responses to Employee’s listening surveys such as  Employee \\nSignals  Daily Pulse and any ot her survey tools used subsequently and feedback collected about managers and \\nco-workers via tools like Manager Feedback and Perspectives.  \\nWorkplace, Device, Usage, and Content data.  Application data (such as data from Office 365, Teams, or', metadata={'source': './EN-EmployeeBook.pdf', 'page': 4}), Document(page_content='Workplace, Device, Usage, and Content data.  Application data (such as data from Office 365, Teams, or \\nOutlook , or inte rnal business processes ) including emails sent and received, calendar entries, to -do items, \\ninstant messages, building and information system access, Microsoft device s, system and application usage \\n(including telemetry) when accessing and using Microsoft c orporate buildings and assets. Please note, more \\ninformation about the specific types of data Microsoft may use for product improvement purposes can be \\nfound in several resources, including the Microsoft Data Program (MDP) addendum. Company may also \\ncollec t personal data about Employee from third parties or public sources as needed to support the employment \\nrelationship or to engage with Employee concerning job opportunities at Microsoft. For example, before and \\nduring Employee’s employment or assignment wi th Company, Company may collect information from public \\nprofessional networking sources, such as Employee’s LinkedIn  profile, for recruitment purposes. Company \\nmay also conduct lawful background screenings, to the extent permitted by law, through a third -party vendor \\nfor information about Employee’s past education, employment, credit and/or criminal history. In the event of a \\nnatural disaster or other life/safety emergency, Company may rely on public social media posts or other public', metadata={'source': './EN-EmployeeBook.pdf', 'page': 4}), Document(page_content='natural disaster or other life/safety emergency, Company may rely on public social media posts or other public \\nsources to acco unt for Employees if otherwise unable to contact them. Additionally, if there is an investigation \\nof an incident involving Employees, Company may obtain information relevant to the incident from external \\nsources including private parties, law enforcement o r news sources and public social media posts.  \\nIn some limited circumstances, with Employee’s  consent (where appropriate or required), Company may \\ncollect personal data for research purposes or other non -employment related purposes, with Employee’s \\nconsent.  \\nSensitive  Personal Information . The following non-exhaustive types of personal data that Company  collect \\nfrom Employee , as necessary, may be considered Sensitive personal information  under applicable Chinese \\nlaws, Demographic and biometric data, including employees’ health information ; and  Financial information .', metadata={'source': './EN-EmployeeBook.pdf', 'page': 4}), Document(page_content='6 \\n 微软 Confidential          3.Why Company Process es Personal Data  \\nCompany collects Employee’s personal data for the purposes set out below. Failure to provide Employee’s \\npersonal data when requested may prevent Compa ny from being able to carry out these tasks and/or comply \\nwith Company’s legal obligations.  \\n(1) To  administer Employee’s employment contract, offer letter or other commitments Company has made to \\nEmployee.  \\nCompany collects and uses Employee’s personal data primarily for the purposes of managing Company’s \\nemployment or working relationship with Employee , and to fulfill Company’s obligations under Employee’s \\nemployment contract,  related agreement, or applicable Microsoft policies, including on -boarding, payroll, \\nbenefits administration, pension and retirement administration, managing vacation and other types of leave, tax \\nreporting, and the like. A few examples  include , Employee’s employment contract, Employee’s offer letter \\n(e.g., so Company can on -board Employee), promotion history and performance reviews (e.g., so Company \\ncan manage Company’s em ployment relationship with Employee), and Employee’s bank account and salary \\ndetails (e.g., so Company can pay Employee or provid e HR benefits).  \\n(2) Other  overriding and legitimate business purposes  \\nCompany may also collect and use Employee’s personal data  when it is necessary for other legitimate', metadata={'source': './EN-EmployeeBook.pdf', 'page': 5}), Document(page_content='Company may also collect and use Employee’s personal data  when it is necessary for other legitimate \\npurposes, such as general HR administration, maintaining Company’s global directory of Employees and \\nexternal staff, general business management and operations, disclosures for auditing and reporting purposes, \\nmeasuring Employee sentiment, internal investigations, management of network and information systems \\nsecurity, business operations, security, life safety and building management, provision and improvement of \\nemployee services, physical security and cybersecur ity, data protection, for global diversity and inclusion \\ninitiatives, to protect the life and safety of Employees and others in connection with the sale, assignment or \\nother transfer of all or part of Company’s business. Company also uses business data and  other workplace \\nusage, device and content data for organizational and individual analytics and data insight purposes to improve \\nMicrosoft business operations, manager ability, and Employee experience. Company may also use special \\napplications and systems that record Employee performance metrics, such as sales related or code databases \\nfor business operations purposes as well as for the purposes of reviewing, rewarding and coaching Employees \\non their performance and for administration and assessment of trai ning. Company may also process \\nEmployee’s personal data to investigate potential violations of law or violations of Company’s internal', metadata={'source': './EN-EmployeeBook.pdf', 'page': 5}), Document(page_content='Employee’s personal data to investigate potential violations of law or violations of Company’s internal \\npolicies.  \\n(3) Legally  required purposes  \\nCompany may  also use Employee’s personal data when it is necessary to comply with laws and regulations, \\nincluding collecting and disclosing personal data as required by law (e.g., minimum wage, working time, tax, \\nhealth and safety, anti -discrimination laws, global migration, and data subject rights), under judi cial \\nauthorization, or to exercise or defend Microsoft’s legal rights , or Microsoft processes personal data for \\npurposes of complying with its legal obligations, or for investigating alleged misconduct or violations of \\nMicrosoft’s policy or law, subject to  compliance with local legal requirements.', metadata={'source': './EN-EmployeeBook.pdf', 'page': 5}), Document(page_content='7 \\n 微软 Confidential          (4) Other  uses of Employee’s data (where permissible and in accordance with applicable laws and consultation \\nrequirements)  \\nCompany may also collect Employee’s internal usage data of Microsoft products, services an d internal \\napplications and tools , including business data created by employees and external staff , to measure and \\nimprove these products ; for product improvement purposes human and machine review of such data  might be \\nconducted  to train AI models and impr ove machine learning for Microsoft products and services. Where \\nrequired by law, Company will seek individual’s consent for such us age; and where individual’s consent is \\nsought, Company will ensure individual’s consent is informed, voluntary, and that indi vidual suffers no \\nadverse consequence from any decision to withhold or revoke the consent.  \\n(5) The Company  only collect s and use s sensitive personal information  for the following purposes as described \\nin the “ Why Company Process es Personal Data” section . The Company will adopt strict security measures \\nwhen processing sensitive personal information , \\n• Comply with requirements and applicable laws;  \\n• Administering emplo yment contract or other commitments the Company made with Employee ; \\n• HR management; and  \\n• General business management and operation.  \\n4.Change of Purpose  \\nCompany will use Employee’s personal data only for the purposes for which it was collected, unless Company', metadata={'source': './EN-EmployeeBook.pdf', 'page': 6}), Document(page_content='4.Change of Purpose  \\nCompany will use Employee’s personal data only for the purposes for which it was collected, unless Company  \\nreasonably needs it for another compatible purpose and there is a legal basis for further processing. For \\nexample, relying upon our legitimate interest in recruiting candidates for roles at Microsoft, Company may \\nprocess personal data the individual provi ded while researching job openings based on individual’s consent. \\nHowever, once an individual applies for and is successful in obtaining a role, Company may process related \\npersonal data for the purpose of entering into an employment relationship with indi vidual.  \\n5.How and Why Company Share s Personal Data  \\nCompany will only share Employee’s personal data with those who have a legitimate business need for it. \\nWhenever Company permits a third party to access Employee’s personal data, Company will ensure  the \\npersonal data is used in a manner consistent with this policy (and any applicable internal data handling \\nguidelines consistent with the sensitiv ity and classification of personal data). Employee’s personal data may be \\nshared with Company’s subsidiaries and affiliates and other third parties, including service providers, for the \\nfollowing legitimate purposes , \\n(1) In  order to carry out the purposes of Company’s personal data processing as described above (see section \\ntitled “Why Company Process es Personal Data”);', metadata={'source': './EN-EmployeeBook.pdf', 'page': 6}), Document(page_content='titled “Why Company Process es Personal Data”);  \\n(2) To  enable third parties to provide services on behalf of Microsoft. Third party data recipients include \\nfinancial investment service pr oviders, insurance providers, pension administrators and other benefits', metadata={'source': './EN-EmployeeBook.pdf', 'page': 6}), Document(page_content='8 \\n 微软 Confidential          providers, childcare providers, payroll support services, relocation, tax and travel management services, health \\nand safety experts, facility management, legal service providers, and s ecurity services;  \\n(3) To  comply with Company’s legal obligations, regulations, government clearances, or contracts, or to \\nrespond to data subject rights, a court order, administrative or judicial process, such as a subpoena, \\ngovernment audit or search warr ant. Categories of recipients include counterparties to contracts, judicial and \\ngovernmental bodies;  \\n(4) In  response to lawful requests by public authorities (such as regulatory bodies, law enforcement authorities, \\nand national security organizations);  \\n(5) To  seek legal advice from external lawyers and advice from other professionals such as accountants, \\nmanagement consultants, etc.;  \\n(6) As  necessary to establish, exercise or defend against potential, threatened or actual litigation;  \\n(7) Where  necessary t o protect Microsoft, Employee’s vital interests, such as safety and security, or the vital \\ninterests of other persons;  \\n(8) In  connection with the sale, assignment or other transfer of all or part of Company’s business (such as to a \\npotential purchaser and its legal/professional advisers); or  \\n(9) Otherwise  in accordance with Employee’s consent.  \\nPlease note that where legal requirements limit the sharing of Employee’s personal data, Company will respect \\nsuch requirements.', metadata={'source': './EN-EmployeeBook.pdf', 'page': 7}), Document(page_content='Please note that where legal requirements limit the sharing of Employee’s personal data, Company will respect \\nsuch requirements.  \\n6.Use of Cookies and Web Beacons  \\nSite pages may use cookies (small text files placed on Employee’s device). Cookies and similar technologies \\nallow Company to store and honor Employee’s preferences and settings , enable Employee to sign -in, combat \\nfraud , and analyze how Company’s websites and online services are performing.  \\nCompany also uses “web beacons” to help deliver cookies and gather usage and performance data. Company’s \\nwebsites may include web beacons, and cookies, or similar technologies from thi rd-party service providers.  \\nEmployee has a variety of tools to control the data collected by cookies, web beacons and similar technologies. \\nFor example, Employee can use controls in Employee’s internet browser to limit how the websites Employee \\nvisits are able to use cookies and to withdraw Employee’s consent by clearing or blocking cookies.  \\n7.Workplace Security and Monitoring  \\nCompany monitors its IT and communications systems through automated tools such as network \\nauthentication and wireless connectivity hardware and software, anti -malware software, website filtering and \\nspam filtering software, security software for cloud -based applications, access and transaction logging, and \\nmobile device management solutions. The primary purpose of this monitoring is C ompany’s legitimate', metadata={'source': './EN-EmployeeBook.pdf', 'page': 7}), Document(page_content='mobile device management solutions. The primary purpose of this monitoring is C ompany’s legitimate \\ninterests in protecting its employees, customers, and business partners. For example:', metadata={'source': './EN-EmployeeBook.pdf', 'page': 7}), Document(page_content='9 \\n 微软 Confidential          (1)For systems, applications, and network security, including in particular the security of Microsoft’s IT \\nsystems and assets, and the safety and secu rity of its employees, external staff and other third parties;  \\n(2)For network and device management and support;  \\n(3)For proof of business transactions and recordkeeping;  \\n(4)For the protection of confidential information and company assets;  \\n(5)For investiga ting wrongful acts or potential violations of company policy; and  \\n(6)For other legitimate business purposes as permitted under applicable law.  \\nCompany also monitors Company’s offices, and other workplace facilities, through video monitoring such as \\nclosed -circuit television (“CCTV”) and badge  scanning for security purposes , life safety and building \\nmanagement purposes . CCTV is primarily used at office entrance and exit points, elevator lobbies, rooms \\nwhere there may be valuable equipment, such as server roo ms, and in other select ed areas with a high risk for \\ntheft or with highly sensitive assets. CCTV is not used in private spaces such as restrooms, n ursing  rooms or \\nlocker rooms. Nor is it used to monitor employee workstations for performance reasons.  \\nAny me ssage, files, data, document, facsimile, audio/video, social media post or instant message \\ncommunications, or any other types of information transmitted to, through or from, received or printed from,', metadata={'source': './EN-EmployeeBook.pdf', 'page': 8}), Document(page_content='communications, or any other types of information transmitted to, through or from, received or printed from, \\nor created, stored or recorded on Company’s IT and commu nications systems and assets (included via the use \\nof personal devices accessing corporate IT systems) are presumed to be business -related and may be monitored \\nor accessed by Company in accordance with applicable law s and workplace agreements (such as empl oyment  \\ncontract), and subject to Microsoft’s own policies on access to and uses of such data.  \\nAll Employees acknowledge and consent that the Company has the right to access, review, monitor, image, \\ntransfer overseas, search or delete any data or applications stored on the Company’s IT and communications \\nsystems or access, monitor or search workplaces at any time for the purposes of resources management, \\nbusiness operations, information and other security operations, internal investigations, audits  and risk \\nmanagement, compliance with the Company’s legal obligations or any other lawful purposes.  \\n8.Security of Personal Data  \\nMicrosoft is committed to protecting the security of Employee’s personal data. Company uses a variety of \\nsecurity technologies and procedures to help protect Employee’s personal data from unauthorized access, use, \\nor disclosure. For example, Company stores  the personal data Employee provides on limited access computer', metadata={'source': './EN-EmployeeBook.pdf', 'page': 8}), Document(page_content='or disclosure. For example, Company stores  the personal data Employee provides on limited access computer \\nservers that  are located in controlled facilities, and  we protect  certain highly confidential or sensitive personal \\ndata through  encryption  in transfer and at rest . \\n9.Cross -Border Transfer of Employee’s Personal Data \\n \\nMicrosoft operates globally  and t o perform contracts and business operations, carry out human resources \\nmanagement, fulfill legal obligations, and other lawful purposes, Company may transfer personal information', metadata={'source': './EN-EmployeeBook.pdf', 'page': 8}), Document(page_content=\"10 \\n 微软 Confidential          collected from Employee in China to locations of the Company’s affiliated entities outside of China, for \\nexample, the U.S. where the headquarter of Microsoft resides. When Employee’s personal information is \\ntransferred outside of China, Company will ensure  that such transfer will comply with applicable Chinese laws \\nand regulations, and appropriate and necessary measures will be implemented to provide an equivalent level of \\ndata protection in accordance with applicable Chinese laws. \\n10.Company’s Retention of  Personal Data  \\n \\nCompany  will store p ersonal data in accordance with applicable laws or regulatory requirements and retain \\ndata for as long as necessary to fulfill the purposes for which the personal data was collected, as documented in \\nCompany’s corporate data retention schedule.  \\n11.Employee’s Rights to Personal Data  \\n \\nCompany respects Employee’s personal rights according to applicable laws and regulations including Personal \\nInformation Protection Law of People's Republic of China within personal information  processing activities, \\ne.g., Employee may copy, consult, correct, complete and ask for deleting Employee’s personal information \\nunder lawful circumstances. In specific circumstances , Company may not be able to respond to Employee’s \\nrequest of exercising personal rights due to requirements by laws and administrative regulations or legitimate \\npurpose of processing personal information.\", metadata={'source': './EN-EmployeeBook.pdf', 'page': 9}), Document(page_content=\"purpose of processing personal information.  \\nEmployee may exercise related rights via AskHR@mi crosoft.com.  \\nFor reasonable request s from Employee, there is no charges in principle . But multiple and repeated requests in \\na certain period of time may lead to a certain charge of cost born by Employee.  \\n12.Changes to this Policy  \\nIt is necessary to alter t his policy as Company continues to grow and progress or the regulations and policies \\nrelated to personal information are adjusted. Company has the right to make corresponding revisions to this \\npolicy from time to time in accordance with changes in Chinese laws and changes in Company's internal \\nproduction or management policies. Company will notify Employee of the changes in the form of intranet \\nannouncements or emails, and explain the details of the changes and the implementation date of the new \\npolicy. Emp loyee understands and agrees that he/she is  also obliged to check Company's related websites at \\nany time to understand the latest policies and comply with them. If Employee has any questions and/or \\nsuggestions about the content of the changes, Employee sho uld submit them to Human Resources Department \\nwithin 15 calendar days after receiving the notification of the changes.\", metadata={'source': './EN-EmployeeBook.pdf', 'page': 9}), Document(page_content='11 \\n 微软 Confidential          13.Learning and Skills Data Addendum  \\nThis addendum applies to  Learning and Skills Data  that Company processes about Employees for  vario us \\npurposes, subject to compliance with local laws, its own internal policies, third -party terms of use (e.g., where \\nskills data or training is provided by third parties), and applicable third -party contractual requirements.  \\nLearning and Skills Data is inf ormation about Employee’s professional development activities, such as \\ntraining and achievements, skills, and related interests. Sources of Learning and Skills Data include \\ninformation about Employee’s , \\n•  Interactions with Microsoft Learning websites, such as Microsoft Learn or LinkedIn Learning, when \\nEmployee authenticates with Employee’s Microsoft employee account.  \\n•  Microsoft Internal trainings, courses or other offerings delivered by Microsoft, that Employee may take to \\ndevelop job, work,  role or career -related skills. These offerings may be optional, encouraged, expected or even \\nrequired; may be provided live, online or via audio and video recordings; and may be targeted broadly or \\nscoped to Employee’s business, role or function. Examples  include , Microsoft’s Standards of Business \\nConduct Training, offerings for Microsoft Employees only on LinkedIn Learning, and trainings offered via \\ncompany -wide, divisional or team learning portals.', metadata={'source': './EN-EmployeeBook.pdf', 'page': 10}), Document(page_content='company -wide, divisional or team learning portals.  \\n•  Third -party trainings or courses offered by Microsoft , or linked to Employee’s Microsoft employee \\naccount, or that Employee chooses to share with Microsoft. Unlike the internal trainings referenced above, \\nthese trainings are delivered by third parties, not Microsoft, or are offered through services such as L inkedIn or \\nLinkedIn Learning. These trainings may be provided via external websites, off -site courses, or delivered (even \\ninternally) by third -party resources. Like internal trainings, these third -party trainings may be targeted broadly \\nor scoped to Employ ee’s business, role or function and may be available via commercial or consumer -facing \\nwebsites. Examples include , offerings on LinkedIn Learning, or courses offered by third parties like Dale \\nCarnegie or others.  \\n•  Certifications and achievements, such as  Microsoft and third -party certifications Employee earns and \\nchooses to share. Some jobs, roles or functions may require specific certifications. Where that is the case, \\nEmployee will receive prior notice of such requirements. If certifications are mandato ry, Employee may be \\nrequired to share information about Employee’s successful completion of these certifications.  \\n•  Skills Employee identifies or that can otherwise be inferred from Employee’s learning or professional \\nactivities.  \\n•  Participation in Micro soft events, such as Ready, Build, and Hackathons.', metadata={'source': './EN-EmployeeBook.pdf', 'page': 10}), Document(page_content='activities.  \\n•  Participation in Micro soft events, such as Ready, Build, and Hackathons.  \\n•  Growth interests, such as the experiences or skills Employee indicates that Employee would like to build \\nfor Employee’s growth and development in Connects or other contexts, or the content or material E mployee \\nexplores related to professional development, career planning, skill building, and other learning opportunities.  \\n•  Role -based development, such as hands -on or experiential activities Employee does to gain competence in \\nEmployee’s role.  \\nMicrosoft m ay process various kinds of data from the above sources including (but not limited to) ,', metadata={'source': './EN-EmployeeBook.pdf', 'page': 10}), Document(page_content='12 \\n 微软 Confidential          •  Contact Information and Demographic Data, for example, Employee’s name, contact information, job title, \\njob level, profession, etc.;  \\n•  Attendance, performance, and completion data;  \\n•  Feedback about a particular event, course, training or offering;  \\n•  Analytics about Employee’s interactions with a training or learning website or service;  \\n•  Data about Employee’s skills that Employee provides or are observed;  \\n•  Photo s, videos or recordings (video and audio) of the training activity or event.  \\nMicrosoft also collects Learning and Skills Data in various contexts. For example, Microsoft collects Learning \\nand Skills Data when Employee , \\n•  Provides it, for example by sharin g Employee’s professional development goals with Employee’s manager \\nin Employee’s Connect, joining a Microsoft internal distribution list or group affiliated with a certification or \\nprofessional skill, or updating Employee’s profile by adding badges design ating professional achievements;  \\n•  Authorizes a third party to provide it, such as when Employee directs an educational or professional \\norganization to share Employee’s professional achievements with Microsoft;  \\n•  Registers and participates in Microsoft l earning activities, such as attending Ready, Build or a hackathon.  \\n•  Uses learning services available only to Microsoft employees and/or external staff, such as when Employee', metadata={'source': './EN-EmployeeBook.pdf', 'page': 11}), Document(page_content='•  Uses learning services available only to Microsoft employees and/or external staff, such as when Employee \\nviews professional development content or interacts with learning modules; and  \\n•  Uses learning services authenticated with Employee’s Microsoft employee account, such as Microsoft \\nLearn or LinkedIn Learning (subject to applicable terms of use for the hosting website and any contractual \\nobligations Microsoft has undertaken for access to such data).  \\nMicrosoft uses Learning and Skills Data for the varied purposes set out below, which may involve automatic \\nprocessing using machine learning and artificial intelligence applications, such as natural language processing.  \\n(1)To manage Company’ s employment or working relationship with Employee , including Employee’s career \\ndevelopment opportunities . \\nCompany processes Learning and Skills Data for the purpose of managing Company’s employment or \\nworking relationship with Employee, including fulfilling Company’s obligations and commitments to \\nEmployee . Failure to provide Employee’s Learning and Skills Da ta when requested may prevent Company \\nfrom being able to carry out these tasks and/or comply with Company’s legal obligations. For example, \\nMicrosoft uses Learning and Skills Data to:  \\n•  Verify whether  Employee has completed training activities required in  Employee’s role or as required by \\napplicable laws;  \\n•  Facilitate, at Employee’s direction, professional development and career planning;', metadata={'source': './EN-EmployeeBook.pdf', 'page': 11}), Document(page_content='applicable laws;  \\n•  Facilitate, at Employee’s direction, professional development and career planning;  \\n•  Review, reward, and enhance employee performance and career development;', metadata={'source': './EN-EmployeeBook.pdf', 'page': 11}), Document(page_content='13 \\n 微软 Confidential          •  Identify career and growth opportunities for employees;  \\n•  Determine appropriate resources for a particular customer opportunity or support scenario;  \\n•  Assess Employee potential for growth;  \\n•  Validate whether  Employee has attended training paid for or  reimbursed by Microsoft; and  \\n•  Assist Employee in identifying content or materials that may be aligned with Employee’s growth interests.  \\n(2)To provide and improve Company’s products and services . \\nCompany processes Learning and Skills Data to provide and improve Company’s products and services. For \\nexample, when Employee registers for Microsoft training or certification exams, Company uses Employee’s \\nLearning and Skills Data to determine if Employee has completed the training and, if appropriate, meet s \\ncertification b ar. Company may , \\n•  Analyze pseudonymized Learning and Skills Data to determine which learning activities are most popular \\namong new Employee or Employee with certain titles;  \\n•  Combine Learning and Skills Data with other business intelligence data to identify and evaluate , on an \\naggregated basis, the effectiveness of learning products and services. For example, Company may query \\nwhether certain learning activities increase customer satisfaction levels, improve employee safety, reduce \\nsecurity incidents, or have impact on c areer development opportunities or Employee performance; or', metadata={'source': './EN-EmployeeBook.pdf', 'page': 12}), Document(page_content='security incidents, or have impact on c areer development opportunities or Employee performance; or  \\n•  Use feedback from learning activities to improve Company’s products and services. For example, \\nCompany may receive insights about ways to improve Azure when analyzing aggregated results of Azur e \\ncertification exams or reviewing feedback received after a training event.  \\n(3)Other lawful purposes  \\nCompany processes Learning and Skills Data for other lawful purposes, such as when:  \\n•  Necessary for Company’s legitimate business purposes, such as runni ng Company’s business, conducting \\nbusiness intelligence, for auditing and reporting purposes, managing Company’s network and information \\nsystems security, and providing and improving employee services.  \\n•  Company suspects or discovers violations of law or breaches of Company’s internal policies.  \\n•  Permissible, with Employee’s lawfully obtained consent.  \\n•  Company considers it necessary for complying with laws and regulations, including collecting and \\ndisclosing personal data as required by law (e.g., for m inimum wage, working time, tax, health and safety, \\nanti-discrimination laws, global migration and data subject rights), under judicial authorization, or to exercise \\nor defend Microsoft’s legal rights.', metadata={'source': './EN-EmployeeBook.pdf', 'page': 12}), Document(page_content='14 \\n 微软 Confidential          14.Microsoft Data Program (MDP) Addendum  \\nThis addendum applies to the Microsoft Data Program (MDP) and the business -related data processed by MDP \\nfor purposes of debugging, testing, developing, and improving new and existing products and services (“MDP \\nData”). MDP data may be used to train AI and machine learn ing models. MDP and the terms of this addendum \\napply to Microsoft Employee only. External staff and candidate data are specifically excluded from the scope \\nof MDP. More information about the specific terms and scope of MDP can be found at the  Learn More page  of \\nrelated chapter,  refer to link:  https://privacy.microsoft.com/en -US/data -privacy -notice  . Employee may opt -out \\nto limit their participation in the program at any time, without adverse consequence by  \\nclicking   http://aka.ms/MDPOptOut  . \\nMDP is aimed primarily at the processing of data or information that is transmitted, created, exchanged or \\nstored by Microsoft Employee using Microsoft internal systems, software, services, and assets within the scope \\nof Employee’s employment. Microsoft will make reasonable efforts to implement controls to exclude non -\\nbusiness -related  data from the scope of MDP, where possible. While those controls are intended to limit the \\nscope of MDP to proces sing Microsoft business -related data (as described further at the  Learn More page  of', metadata={'source': './EN-EmployeeBook.pdf', 'page': 13}), Document(page_content='scope of MDP to proces sing Microsoft business -related data (as described further at the  Learn More page  of \\nrelated chapter,  refer to link: https://privacy.microso ft.com/en -US/data -privacy -notice), MDP may incidentally \\nprocess certain personal content for Employee that is created, stored or transmitted in Microsoft owned or \\nprovided systems and resources. When that occurs, Microsoft will continue to make reasonable efforts to \\nrefine its controls to better exclude such data in the future. At all times, MDP’s processing of data will comply \\nwith the stated requirements for MDP, as well Microsoft’s internal policies (including the  Responsible Use of \\nTechnology Policy ，link:  \\nhttps://microsoft.sharepoint.com/sites/mspolicy/SitePages/PolicyProcedure.aspx?policyprocedureid=MSPolicy\\n-7777  ), as well as local law.  \\nSources of MDP data include, but are not limited to, emails and calendar information in Exchange, files stored \\nin OneDrive for Business, content of meeting recordings, voice collected on work devices, messages in \\nYamm er and Teams, content on SharePoint sites, diagnostic data from work devices, search data, product and \\nservices feedback data, and internal line of business applications such as those applications developed to \\nsupport sales processes (e.g., MSX). These are  representative and non -exhaustive examples of the types of \\nMicrosoft business -related data from which MDP may process data. Up -to-date information concerning MDP', metadata={'source': './EN-EmployeeBook.pdf', 'page': 13}), Document(page_content='Microsoft business -related data from which MDP may process data. Up -to-date information concerning MDP \\ncan be found at the  Learn More page  of related chapter,  refer to link:  https://privacy.microsoft.com/en -\\nUS/data -privacy -notice . \\nIn addition to content -related data from the above sources, Microsoft may also process various additional kinds \\nof data from the above sources in support of MDP including (but not limited to) , \\n•  Basic Demographic Data, including, for example, Employee’s na me and alias, etc.;  \\n•  Meta -data associated with the applicable content, such as time and date information, signals related to \\nauthorship and modification of data, document and meeting titles, etc.; and', metadata={'source': './EN-EmployeeBook.pdf', 'page': 13}), Document(page_content='15 \\n 微软 Confidential          •  Telemetry data, such as data related to product an d feature usage, associated with the above content types \\nand services, or machine -related data such as software version history, machine type, operating system version, \\netc. \\nMicrosoft’s use of MDP data is premised on Microsoft’s legitimate interest in using its own business data for \\nbusiness -related purposes, as that use strongly exceeds Employee’s individual interest in the privacy of such \\nbusiness -related data. Microsoft may  process certain MDP data based on Employee ’s consent, to the extent ,  \\n(1) an individual’s privacy interest would exceed Microsoft’s interest in the processing; and (2) local law \\nrequires Microsoft to obtain consent prior to such processing. Where consent constitutes the primary basis for \\nprocessing data under MDP, Microsoft will in all cases ensure consent is voluntary and informed and will also \\nensure Employee suffer s no adverse consequence for refusing to give or later revoking such consent, and gain \\nno specific benefit from choosing to participate or contribute data to MDP.  \\n15.How to Contact Us  \\nIf Employee has any question related to personal information processing, please \\ncontact  AskHR@microsoft.com.', metadata={'source': './EN-EmployeeBook.pdf', 'page': 14})]\n"
     ]
    }
   ],
   "source": [
    "print(splits)"
   ]
  },
  {
   "cell_type": "markdown",
   "id": "848e26fd",
   "metadata": {},
   "source": [
    "## Embeddings\n",
    "\n",
    "Let's take our splits and embed them."
   ]
  },
  {
   "cell_type": "code",
   "execution_count": 7,
   "id": "d9dca7a8",
   "metadata": {
    "height": 47,
    "tags": []
   },
   "outputs": [],
   "source": [
    "from langchain.embeddings.openai import OpenAIEmbeddings\n",
    "embedding = OpenAIEmbeddings()"
   ]
  },
  {
   "cell_type": "code",
   "execution_count": 8,
   "id": "c4099521",
   "metadata": {
    "height": 64,
    "tags": []
   },
   "outputs": [],
   "source": [
    "sentence1 = \"i like dogs\"\n",
    "sentence2 = \"i like canines\"\n",
    "sentence3 = \"the weather is ugly outside\""
   ]
  },
  {
   "cell_type": "code",
   "execution_count": 9,
   "id": "d553549a",
   "metadata": {
    "height": 64,
    "tags": []
   },
   "outputs": [
    {
     "ename": "InvalidRequestError",
     "evalue": "The API deployment for this resource does not exist. If you created the deployment within the last 5 minutes, please wait a moment and try again.",
     "output_type": "error",
     "traceback": [
      "\u001b[0;31m---------------------------------------------------------------------------\u001b[0m",
      "\u001b[0;31mInvalidRequestError\u001b[0m                       Traceback (most recent call last)",
      "\u001b[1;32m/Users/wanggang/Documents/git/OpenAI/CDDP/03_vectorstores_and_embeddings.ipynb Cell 12\u001b[0m line \u001b[0;36m1\n\u001b[0;32m----> <a href='vscode-notebook-cell:/Users/wanggang/Documents/git/OpenAI/CDDP/03_vectorstores_and_embeddings.ipynb#X14sZmlsZQ%3D%3D?line=0'>1</a>\u001b[0m embedding1 \u001b[39m=\u001b[39m embedding\u001b[39m.\u001b[39;49membed_query(sentence1)\n\u001b[1;32m      <a href='vscode-notebook-cell:/Users/wanggang/Documents/git/OpenAI/CDDP/03_vectorstores_and_embeddings.ipynb#X14sZmlsZQ%3D%3D?line=1'>2</a>\u001b[0m embedding2 \u001b[39m=\u001b[39m embedding\u001b[39m.\u001b[39membed_query(sentence2)\n\u001b[1;32m      <a href='vscode-notebook-cell:/Users/wanggang/Documents/git/OpenAI/CDDP/03_vectorstores_and_embeddings.ipynb#X14sZmlsZQ%3D%3D?line=2'>3</a>\u001b[0m embedding3 \u001b[39m=\u001b[39m embedding\u001b[39m.\u001b[39membed_query(sentence3)\n",
      "File \u001b[0;32m~/Documents/venv/ai/lib/python3.11/site-packages/langchain/embeddings/openai.py:506\u001b[0m, in \u001b[0;36mOpenAIEmbeddings.embed_query\u001b[0;34m(self, text)\u001b[0m\n\u001b[1;32m    497\u001b[0m \u001b[39mdef\u001b[39;00m \u001b[39membed_query\u001b[39m(\u001b[39mself\u001b[39m, text: \u001b[39mstr\u001b[39m) \u001b[39m-\u001b[39m\u001b[39m>\u001b[39m List[\u001b[39mfloat\u001b[39m]:\n\u001b[1;32m    498\u001b[0m \u001b[39m    \u001b[39m\u001b[39m\"\"\"Call out to OpenAI's embedding endpoint for embedding query text.\u001b[39;00m\n\u001b[1;32m    499\u001b[0m \n\u001b[1;32m    500\u001b[0m \u001b[39m    Args:\u001b[39;00m\n\u001b[0;32m   (...)\u001b[0m\n\u001b[1;32m    504\u001b[0m \u001b[39m        Embedding for the text.\u001b[39;00m\n\u001b[1;32m    505\u001b[0m \u001b[39m    \"\"\"\u001b[39;00m\n\u001b[0;32m--> 506\u001b[0m     \u001b[39mreturn\u001b[39;00m \u001b[39mself\u001b[39;49m\u001b[39m.\u001b[39;49membed_documents([text])[\u001b[39m0\u001b[39m]\n",
      "File \u001b[0;32m~/Documents/venv/ai/lib/python3.11/site-packages/langchain/embeddings/openai.py:478\u001b[0m, in \u001b[0;36mOpenAIEmbeddings.embed_documents\u001b[0;34m(self, texts, chunk_size)\u001b[0m\n\u001b[1;32m    466\u001b[0m \u001b[39m\u001b[39m\u001b[39m\"\"\"Call out to OpenAI's embedding endpoint for embedding search docs.\u001b[39;00m\n\u001b[1;32m    467\u001b[0m \n\u001b[1;32m    468\u001b[0m \u001b[39mArgs:\u001b[39;00m\n\u001b[0;32m   (...)\u001b[0m\n\u001b[1;32m    474\u001b[0m \u001b[39m    List of embeddings, one for each text.\u001b[39;00m\n\u001b[1;32m    475\u001b[0m \u001b[39m\"\"\"\u001b[39;00m\n\u001b[1;32m    476\u001b[0m \u001b[39m# NOTE: to keep things simple, we assume the list may contain texts longer\u001b[39;00m\n\u001b[1;32m    477\u001b[0m \u001b[39m#       than the maximum context and use length-safe embedding function.\u001b[39;00m\n\u001b[0;32m--> 478\u001b[0m \u001b[39mreturn\u001b[39;00m \u001b[39mself\u001b[39;49m\u001b[39m.\u001b[39;49m_get_len_safe_embeddings(texts, engine\u001b[39m=\u001b[39;49m\u001b[39mself\u001b[39;49m\u001b[39m.\u001b[39;49mdeployment)\n",
      "File \u001b[0;32m~/Documents/venv/ai/lib/python3.11/site-packages/langchain/embeddings/openai.py:364\u001b[0m, in \u001b[0;36mOpenAIEmbeddings._get_len_safe_embeddings\u001b[0;34m(self, texts, engine, chunk_size)\u001b[0m\n\u001b[1;32m    361\u001b[0m     _iter \u001b[39m=\u001b[39m \u001b[39mrange\u001b[39m(\u001b[39m0\u001b[39m, \u001b[39mlen\u001b[39m(tokens), _chunk_size)\n\u001b[1;32m    363\u001b[0m \u001b[39mfor\u001b[39;00m i \u001b[39min\u001b[39;00m _iter:\n\u001b[0;32m--> 364\u001b[0m     response \u001b[39m=\u001b[39m embed_with_retry(\n\u001b[1;32m    365\u001b[0m         \u001b[39mself\u001b[39;49m,\n\u001b[1;32m    366\u001b[0m         \u001b[39minput\u001b[39;49m\u001b[39m=\u001b[39;49mtokens[i : i \u001b[39m+\u001b[39;49m _chunk_size],\n\u001b[1;32m    367\u001b[0m         \u001b[39m*\u001b[39;49m\u001b[39m*\u001b[39;49m\u001b[39mself\u001b[39;49m\u001b[39m.\u001b[39;49m_invocation_params,\n\u001b[1;32m    368\u001b[0m     )\n\u001b[1;32m    369\u001b[0m     batched_embeddings\u001b[39m.\u001b[39mextend(r[\u001b[39m\"\u001b[39m\u001b[39membedding\u001b[39m\u001b[39m\"\u001b[39m] \u001b[39mfor\u001b[39;00m r \u001b[39min\u001b[39;00m response[\u001b[39m\"\u001b[39m\u001b[39mdata\u001b[39m\u001b[39m\"\u001b[39m])\n\u001b[1;32m    371\u001b[0m results: List[List[List[\u001b[39mfloat\u001b[39m]]] \u001b[39m=\u001b[39m [[] \u001b[39mfor\u001b[39;00m _ \u001b[39min\u001b[39;00m \u001b[39mrange\u001b[39m(\u001b[39mlen\u001b[39m(texts))]\n",
      "File \u001b[0;32m~/Documents/venv/ai/lib/python3.11/site-packages/langchain/embeddings/openai.py:107\u001b[0m, in \u001b[0;36membed_with_retry\u001b[0;34m(embeddings, **kwargs)\u001b[0m\n\u001b[1;32m    104\u001b[0m     response \u001b[39m=\u001b[39m embeddings\u001b[39m.\u001b[39mclient\u001b[39m.\u001b[39mcreate(\u001b[39m*\u001b[39m\u001b[39m*\u001b[39mkwargs)\n\u001b[1;32m    105\u001b[0m     \u001b[39mreturn\u001b[39;00m _check_response(response)\n\u001b[0;32m--> 107\u001b[0m \u001b[39mreturn\u001b[39;00m _embed_with_retry(\u001b[39m*\u001b[39;49m\u001b[39m*\u001b[39;49mkwargs)\n",
      "File \u001b[0;32m~/Documents/venv/ai/lib/python3.11/site-packages/tenacity/__init__.py:289\u001b[0m, in \u001b[0;36mBaseRetrying.wraps.<locals>.wrapped_f\u001b[0;34m(*args, **kw)\u001b[0m\n\u001b[1;32m    287\u001b[0m \u001b[39m@functools\u001b[39m\u001b[39m.\u001b[39mwraps(f)\n\u001b[1;32m    288\u001b[0m \u001b[39mdef\u001b[39;00m \u001b[39mwrapped_f\u001b[39m(\u001b[39m*\u001b[39margs: t\u001b[39m.\u001b[39mAny, \u001b[39m*\u001b[39m\u001b[39m*\u001b[39mkw: t\u001b[39m.\u001b[39mAny) \u001b[39m-\u001b[39m\u001b[39m>\u001b[39m t\u001b[39m.\u001b[39mAny:\n\u001b[0;32m--> 289\u001b[0m     \u001b[39mreturn\u001b[39;00m \u001b[39mself\u001b[39;49m(f, \u001b[39m*\u001b[39;49margs, \u001b[39m*\u001b[39;49m\u001b[39m*\u001b[39;49mkw)\n",
      "File \u001b[0;32m~/Documents/venv/ai/lib/python3.11/site-packages/tenacity/__init__.py:379\u001b[0m, in \u001b[0;36mRetrying.__call__\u001b[0;34m(self, fn, *args, **kwargs)\u001b[0m\n\u001b[1;32m    377\u001b[0m retry_state \u001b[39m=\u001b[39m RetryCallState(retry_object\u001b[39m=\u001b[39m\u001b[39mself\u001b[39m, fn\u001b[39m=\u001b[39mfn, args\u001b[39m=\u001b[39margs, kwargs\u001b[39m=\u001b[39mkwargs)\n\u001b[1;32m    378\u001b[0m \u001b[39mwhile\u001b[39;00m \u001b[39mTrue\u001b[39;00m:\n\u001b[0;32m--> 379\u001b[0m     do \u001b[39m=\u001b[39m \u001b[39mself\u001b[39;49m\u001b[39m.\u001b[39;49miter(retry_state\u001b[39m=\u001b[39;49mretry_state)\n\u001b[1;32m    380\u001b[0m     \u001b[39mif\u001b[39;00m \u001b[39misinstance\u001b[39m(do, DoAttempt):\n\u001b[1;32m    381\u001b[0m         \u001b[39mtry\u001b[39;00m:\n",
      "File \u001b[0;32m~/Documents/venv/ai/lib/python3.11/site-packages/tenacity/__init__.py:314\u001b[0m, in \u001b[0;36mBaseRetrying.iter\u001b[0;34m(self, retry_state)\u001b[0m\n\u001b[1;32m    312\u001b[0m is_explicit_retry \u001b[39m=\u001b[39m fut\u001b[39m.\u001b[39mfailed \u001b[39mand\u001b[39;00m \u001b[39misinstance\u001b[39m(fut\u001b[39m.\u001b[39mexception(), TryAgain)\n\u001b[1;32m    313\u001b[0m \u001b[39mif\u001b[39;00m \u001b[39mnot\u001b[39;00m (is_explicit_retry \u001b[39mor\u001b[39;00m \u001b[39mself\u001b[39m\u001b[39m.\u001b[39mretry(retry_state)):\n\u001b[0;32m--> 314\u001b[0m     \u001b[39mreturn\u001b[39;00m fut\u001b[39m.\u001b[39;49mresult()\n\u001b[1;32m    316\u001b[0m \u001b[39mif\u001b[39;00m \u001b[39mself\u001b[39m\u001b[39m.\u001b[39mafter \u001b[39mis\u001b[39;00m \u001b[39mnot\u001b[39;00m \u001b[39mNone\u001b[39;00m:\n\u001b[1;32m    317\u001b[0m     \u001b[39mself\u001b[39m\u001b[39m.\u001b[39mafter(retry_state)\n",
      "File \u001b[0;32m/usr/local/Cellar/python@3.11/3.11.5/Frameworks/Python.framework/Versions/3.11/lib/python3.11/concurrent/futures/_base.py:449\u001b[0m, in \u001b[0;36mFuture.result\u001b[0;34m(self, timeout)\u001b[0m\n\u001b[1;32m    447\u001b[0m     \u001b[39mraise\u001b[39;00m CancelledError()\n\u001b[1;32m    448\u001b[0m \u001b[39melif\u001b[39;00m \u001b[39mself\u001b[39m\u001b[39m.\u001b[39m_state \u001b[39m==\u001b[39m FINISHED:\n\u001b[0;32m--> 449\u001b[0m     \u001b[39mreturn\u001b[39;00m \u001b[39mself\u001b[39;49m\u001b[39m.\u001b[39;49m__get_result()\n\u001b[1;32m    451\u001b[0m \u001b[39mself\u001b[39m\u001b[39m.\u001b[39m_condition\u001b[39m.\u001b[39mwait(timeout)\n\u001b[1;32m    453\u001b[0m \u001b[39mif\u001b[39;00m \u001b[39mself\u001b[39m\u001b[39m.\u001b[39m_state \u001b[39min\u001b[39;00m [CANCELLED, CANCELLED_AND_NOTIFIED]:\n",
      "File \u001b[0;32m/usr/local/Cellar/python@3.11/3.11.5/Frameworks/Python.framework/Versions/3.11/lib/python3.11/concurrent/futures/_base.py:401\u001b[0m, in \u001b[0;36mFuture.__get_result\u001b[0;34m(self)\u001b[0m\n\u001b[1;32m    399\u001b[0m \u001b[39mif\u001b[39;00m \u001b[39mself\u001b[39m\u001b[39m.\u001b[39m_exception:\n\u001b[1;32m    400\u001b[0m     \u001b[39mtry\u001b[39;00m:\n\u001b[0;32m--> 401\u001b[0m         \u001b[39mraise\u001b[39;00m \u001b[39mself\u001b[39m\u001b[39m.\u001b[39m_exception\n\u001b[1;32m    402\u001b[0m     \u001b[39mfinally\u001b[39;00m:\n\u001b[1;32m    403\u001b[0m         \u001b[39m# Break a reference cycle with the exception in self._exception\u001b[39;00m\n\u001b[1;32m    404\u001b[0m         \u001b[39mself\u001b[39m \u001b[39m=\u001b[39m \u001b[39mNone\u001b[39;00m\n",
      "File \u001b[0;32m~/Documents/venv/ai/lib/python3.11/site-packages/tenacity/__init__.py:382\u001b[0m, in \u001b[0;36mRetrying.__call__\u001b[0;34m(self, fn, *args, **kwargs)\u001b[0m\n\u001b[1;32m    380\u001b[0m \u001b[39mif\u001b[39;00m \u001b[39misinstance\u001b[39m(do, DoAttempt):\n\u001b[1;32m    381\u001b[0m     \u001b[39mtry\u001b[39;00m:\n\u001b[0;32m--> 382\u001b[0m         result \u001b[39m=\u001b[39m fn(\u001b[39m*\u001b[39;49margs, \u001b[39m*\u001b[39;49m\u001b[39m*\u001b[39;49mkwargs)\n\u001b[1;32m    383\u001b[0m     \u001b[39mexcept\u001b[39;00m \u001b[39mBaseException\u001b[39;00m:  \u001b[39m# noqa: B902\u001b[39;00m\n\u001b[1;32m    384\u001b[0m         retry_state\u001b[39m.\u001b[39mset_exception(sys\u001b[39m.\u001b[39mexc_info())  \u001b[39m# type: ignore[arg-type]\u001b[39;00m\n",
      "File \u001b[0;32m~/Documents/venv/ai/lib/python3.11/site-packages/langchain/embeddings/openai.py:104\u001b[0m, in \u001b[0;36membed_with_retry.<locals>._embed_with_retry\u001b[0;34m(**kwargs)\u001b[0m\n\u001b[1;32m    102\u001b[0m \u001b[39m@retry_decorator\u001b[39m\n\u001b[1;32m    103\u001b[0m \u001b[39mdef\u001b[39;00m \u001b[39m_embed_with_retry\u001b[39m(\u001b[39m*\u001b[39m\u001b[39m*\u001b[39mkwargs: Any) \u001b[39m-\u001b[39m\u001b[39m>\u001b[39m Any:\n\u001b[0;32m--> 104\u001b[0m     response \u001b[39m=\u001b[39m embeddings\u001b[39m.\u001b[39;49mclient\u001b[39m.\u001b[39;49mcreate(\u001b[39m*\u001b[39;49m\u001b[39m*\u001b[39;49mkwargs)\n\u001b[1;32m    105\u001b[0m     \u001b[39mreturn\u001b[39;00m _check_response(response)\n",
      "File \u001b[0;32m~/Documents/venv/ai/lib/python3.11/site-packages/openai/api_resources/embedding.py:33\u001b[0m, in \u001b[0;36mEmbedding.create\u001b[0;34m(cls, *args, **kwargs)\u001b[0m\n\u001b[1;32m     31\u001b[0m \u001b[39mwhile\u001b[39;00m \u001b[39mTrue\u001b[39;00m:\n\u001b[1;32m     32\u001b[0m     \u001b[39mtry\u001b[39;00m:\n\u001b[0;32m---> 33\u001b[0m         response \u001b[39m=\u001b[39m \u001b[39msuper\u001b[39;49m()\u001b[39m.\u001b[39;49mcreate(\u001b[39m*\u001b[39;49margs, \u001b[39m*\u001b[39;49m\u001b[39m*\u001b[39;49mkwargs)\n\u001b[1;32m     35\u001b[0m         \u001b[39m# If a user specifies base64, we'll just return the encoded string.\u001b[39;00m\n\u001b[1;32m     36\u001b[0m         \u001b[39m# This is only for the default case.\u001b[39;00m\n\u001b[1;32m     37\u001b[0m         \u001b[39mif\u001b[39;00m \u001b[39mnot\u001b[39;00m user_provided_encoding_format:\n",
      "File \u001b[0;32m~/Documents/venv/ai/lib/python3.11/site-packages/openai/api_resources/abstract/engine_api_resource.py:153\u001b[0m, in \u001b[0;36mEngineAPIResource.create\u001b[0;34m(cls, api_key, api_base, api_type, request_id, api_version, organization, **params)\u001b[0m\n\u001b[1;32m    127\u001b[0m \u001b[39m@classmethod\u001b[39m\n\u001b[1;32m    128\u001b[0m \u001b[39mdef\u001b[39;00m \u001b[39mcreate\u001b[39m(\n\u001b[1;32m    129\u001b[0m     \u001b[39mcls\u001b[39m,\n\u001b[0;32m   (...)\u001b[0m\n\u001b[1;32m    136\u001b[0m     \u001b[39m*\u001b[39m\u001b[39m*\u001b[39mparams,\n\u001b[1;32m    137\u001b[0m ):\n\u001b[1;32m    138\u001b[0m     (\n\u001b[1;32m    139\u001b[0m         deployment_id,\n\u001b[1;32m    140\u001b[0m         engine,\n\u001b[0;32m   (...)\u001b[0m\n\u001b[1;32m    150\u001b[0m         api_key, api_base, api_type, api_version, organization, \u001b[39m*\u001b[39m\u001b[39m*\u001b[39mparams\n\u001b[1;32m    151\u001b[0m     )\n\u001b[0;32m--> 153\u001b[0m     response, _, api_key \u001b[39m=\u001b[39m requestor\u001b[39m.\u001b[39;49mrequest(\n\u001b[1;32m    154\u001b[0m         \u001b[39m\"\u001b[39;49m\u001b[39mpost\u001b[39;49m\u001b[39m\"\u001b[39;49m,\n\u001b[1;32m    155\u001b[0m         url,\n\u001b[1;32m    156\u001b[0m         params\u001b[39m=\u001b[39;49mparams,\n\u001b[1;32m    157\u001b[0m         headers\u001b[39m=\u001b[39;49mheaders,\n\u001b[1;32m    158\u001b[0m         stream\u001b[39m=\u001b[39;49mstream,\n\u001b[1;32m    159\u001b[0m         request_id\u001b[39m=\u001b[39;49mrequest_id,\n\u001b[1;32m    160\u001b[0m         request_timeout\u001b[39m=\u001b[39;49mrequest_timeout,\n\u001b[1;32m    161\u001b[0m     )\n\u001b[1;32m    163\u001b[0m     \u001b[39mif\u001b[39;00m stream:\n\u001b[1;32m    164\u001b[0m         \u001b[39m# must be an iterator\u001b[39;00m\n\u001b[1;32m    165\u001b[0m         \u001b[39massert\u001b[39;00m \u001b[39mnot\u001b[39;00m \u001b[39misinstance\u001b[39m(response, OpenAIResponse)\n",
      "File \u001b[0;32m~/Documents/venv/ai/lib/python3.11/site-packages/openai/api_requestor.py:298\u001b[0m, in \u001b[0;36mAPIRequestor.request\u001b[0;34m(self, method, url, params, headers, files, stream, request_id, request_timeout)\u001b[0m\n\u001b[1;32m    277\u001b[0m \u001b[39mdef\u001b[39;00m \u001b[39mrequest\u001b[39m(\n\u001b[1;32m    278\u001b[0m     \u001b[39mself\u001b[39m,\n\u001b[1;32m    279\u001b[0m     method,\n\u001b[0;32m   (...)\u001b[0m\n\u001b[1;32m    286\u001b[0m     request_timeout: Optional[Union[\u001b[39mfloat\u001b[39m, Tuple[\u001b[39mfloat\u001b[39m, \u001b[39mfloat\u001b[39m]]] \u001b[39m=\u001b[39m \u001b[39mNone\u001b[39;00m,\n\u001b[1;32m    287\u001b[0m ) \u001b[39m-\u001b[39m\u001b[39m>\u001b[39m Tuple[Union[OpenAIResponse, Iterator[OpenAIResponse]], \u001b[39mbool\u001b[39m, \u001b[39mstr\u001b[39m]:\n\u001b[1;32m    288\u001b[0m     result \u001b[39m=\u001b[39m \u001b[39mself\u001b[39m\u001b[39m.\u001b[39mrequest_raw(\n\u001b[1;32m    289\u001b[0m         method\u001b[39m.\u001b[39mlower(),\n\u001b[1;32m    290\u001b[0m         url,\n\u001b[0;32m   (...)\u001b[0m\n\u001b[1;32m    296\u001b[0m         request_timeout\u001b[39m=\u001b[39mrequest_timeout,\n\u001b[1;32m    297\u001b[0m     )\n\u001b[0;32m--> 298\u001b[0m     resp, got_stream \u001b[39m=\u001b[39m \u001b[39mself\u001b[39;49m\u001b[39m.\u001b[39;49m_interpret_response(result, stream)\n\u001b[1;32m    299\u001b[0m     \u001b[39mreturn\u001b[39;00m resp, got_stream, \u001b[39mself\u001b[39m\u001b[39m.\u001b[39mapi_key\n",
      "File \u001b[0;32m~/Documents/venv/ai/lib/python3.11/site-packages/openai/api_requestor.py:700\u001b[0m, in \u001b[0;36mAPIRequestor._interpret_response\u001b[0;34m(self, result, stream)\u001b[0m\n\u001b[1;32m    692\u001b[0m     \u001b[39mreturn\u001b[39;00m (\n\u001b[1;32m    693\u001b[0m         \u001b[39mself\u001b[39m\u001b[39m.\u001b[39m_interpret_response_line(\n\u001b[1;32m    694\u001b[0m             line, result\u001b[39m.\u001b[39mstatus_code, result\u001b[39m.\u001b[39mheaders, stream\u001b[39m=\u001b[39m\u001b[39mTrue\u001b[39;00m\n\u001b[1;32m    695\u001b[0m         )\n\u001b[1;32m    696\u001b[0m         \u001b[39mfor\u001b[39;00m line \u001b[39min\u001b[39;00m parse_stream(result\u001b[39m.\u001b[39miter_lines())\n\u001b[1;32m    697\u001b[0m     ), \u001b[39mTrue\u001b[39;00m\n\u001b[1;32m    698\u001b[0m \u001b[39melse\u001b[39;00m:\n\u001b[1;32m    699\u001b[0m     \u001b[39mreturn\u001b[39;00m (\n\u001b[0;32m--> 700\u001b[0m         \u001b[39mself\u001b[39;49m\u001b[39m.\u001b[39;49m_interpret_response_line(\n\u001b[1;32m    701\u001b[0m             result\u001b[39m.\u001b[39;49mcontent\u001b[39m.\u001b[39;49mdecode(\u001b[39m\"\u001b[39;49m\u001b[39mutf-8\u001b[39;49m\u001b[39m\"\u001b[39;49m),\n\u001b[1;32m    702\u001b[0m             result\u001b[39m.\u001b[39;49mstatus_code,\n\u001b[1;32m    703\u001b[0m             result\u001b[39m.\u001b[39;49mheaders,\n\u001b[1;32m    704\u001b[0m             stream\u001b[39m=\u001b[39;49m\u001b[39mFalse\u001b[39;49;00m,\n\u001b[1;32m    705\u001b[0m         ),\n\u001b[1;32m    706\u001b[0m         \u001b[39mFalse\u001b[39;00m,\n\u001b[1;32m    707\u001b[0m     )\n",
      "File \u001b[0;32m~/Documents/venv/ai/lib/python3.11/site-packages/openai/api_requestor.py:763\u001b[0m, in \u001b[0;36mAPIRequestor._interpret_response_line\u001b[0;34m(self, rbody, rcode, rheaders, stream)\u001b[0m\n\u001b[1;32m    761\u001b[0m stream_error \u001b[39m=\u001b[39m stream \u001b[39mand\u001b[39;00m \u001b[39m\"\u001b[39m\u001b[39merror\u001b[39m\u001b[39m\"\u001b[39m \u001b[39min\u001b[39;00m resp\u001b[39m.\u001b[39mdata\n\u001b[1;32m    762\u001b[0m \u001b[39mif\u001b[39;00m stream_error \u001b[39mor\u001b[39;00m \u001b[39mnot\u001b[39;00m \u001b[39m200\u001b[39m \u001b[39m<\u001b[39m\u001b[39m=\u001b[39m rcode \u001b[39m<\u001b[39m \u001b[39m300\u001b[39m:\n\u001b[0;32m--> 763\u001b[0m     \u001b[39mraise\u001b[39;00m \u001b[39mself\u001b[39m\u001b[39m.\u001b[39mhandle_error_response(\n\u001b[1;32m    764\u001b[0m         rbody, rcode, resp\u001b[39m.\u001b[39mdata, rheaders, stream_error\u001b[39m=\u001b[39mstream_error\n\u001b[1;32m    765\u001b[0m     )\n\u001b[1;32m    766\u001b[0m \u001b[39mreturn\u001b[39;00m resp\n",
      "\u001b[0;31mInvalidRequestError\u001b[0m: The API deployment for this resource does not exist. If you created the deployment within the last 5 minutes, please wait a moment and try again."
     ]
    }
   ],
   "source": [
    "embedding1 = embedding.embed_query(sentence1)\n",
    "embedding2 = embedding.embed_query(sentence2)\n",
    "embedding3 = embedding.embed_query(sentence3)"
   ]
  },
  {
   "cell_type": "code",
   "execution_count": null,
   "id": "0cbe9a9e",
   "metadata": {
    "height": 30,
    "tags": []
   },
   "outputs": [],
   "source": [
    "import numpy as np"
   ]
  },
  {
   "cell_type": "code",
   "execution_count": null,
   "id": "49fc0f8f",
   "metadata": {
    "height": 30,
    "tags": []
   },
   "outputs": [],
   "source": [
    "np.dot(embedding1, embedding2)"
   ]
  },
  {
   "cell_type": "code",
   "execution_count": null,
   "id": "32a1fac7",
   "metadata": {
    "height": 30,
    "tags": []
   },
   "outputs": [],
   "source": [
    "np.dot(embedding1, embedding3)"
   ]
  },
  {
   "cell_type": "code",
   "execution_count": null,
   "id": "9dd18328",
   "metadata": {
    "height": 30,
    "tags": []
   },
   "outputs": [],
   "source": [
    "np.dot(embedding2, embedding3)"
   ]
  },
  {
   "cell_type": "markdown",
   "id": "4fc7b24f",
   "metadata": {},
   "source": [
    "## Vectorstores"
   ]
  },
  {
   "cell_type": "code",
   "execution_count": null,
   "id": "da2213e6",
   "metadata": {
    "height": 30,
    "tags": []
   },
   "outputs": [],
   "source": [
    "# ! pip install chromadb"
   ]
  },
  {
   "cell_type": "code",
   "execution_count": null,
   "id": "201e6afa",
   "metadata": {
    "height": 30,
    "tags": []
   },
   "outputs": [],
   "source": [
    "from langchain.vectorstores import Chroma"
   ]
  },
  {
   "cell_type": "code",
   "execution_count": null,
   "id": "93960ac5",
   "metadata": {
    "height": 30,
    "tags": []
   },
   "outputs": [],
   "source": [
    "persist_directory = 'docs/chroma/'"
   ]
  },
  {
   "cell_type": "code",
   "execution_count": null,
   "id": "a195e72a",
   "metadata": {
    "height": 30,
    "tags": []
   },
   "outputs": [],
   "source": [
    "!rm -rf ./docs/chroma  # remove old database files if any"
   ]
  },
  {
   "cell_type": "code",
   "execution_count": null,
   "id": "690efd0a",
   "metadata": {
    "height": 98,
    "tags": []
   },
   "outputs": [],
   "source": [
    "vectordb = Chroma.from_documents(\n",
    "    documents=splits,\n",
    "    embedding=embedding,\n",
    "    persist_directory=persist_directory\n",
    ")"
   ]
  },
  {
   "cell_type": "code",
   "execution_count": null,
   "id": "f777480c",
   "metadata": {
    "height": 30,
    "tags": []
   },
   "outputs": [],
   "source": [
    "print(vectordb._collection.count())"
   ]
  },
  {
   "cell_type": "markdown",
   "id": "efca7589",
   "metadata": {},
   "source": [
    "### Similarity Search"
   ]
  },
  {
   "cell_type": "code",
   "execution_count": null,
   "id": "3e20837d",
   "metadata": {
    "height": 30,
    "tags": []
   },
   "outputs": [],
   "source": [
    "question = \"is there an email i can ask for help\""
   ]
  },
  {
   "cell_type": "code",
   "execution_count": null,
   "id": "f9bde572",
   "metadata": {
    "height": 30,
    "tags": []
   },
   "outputs": [],
   "source": [
    "docs = vectordb.similarity_search(question,k=3)"
   ]
  },
  {
   "cell_type": "code",
   "execution_count": null,
   "id": "41388af1",
   "metadata": {
    "height": 30,
    "tags": []
   },
   "outputs": [],
   "source": [
    "len(docs)"
   ]
  },
  {
   "cell_type": "code",
   "execution_count": null,
   "id": "183434f6",
   "metadata": {
    "height": 30,
    "tags": []
   },
   "outputs": [],
   "source": [
    "docs[0].page_content"
   ]
  },
  {
   "cell_type": "markdown",
   "id": "1edb21d8",
   "metadata": {},
   "source": [
    "Let's save this so we can use it later!"
   ]
  },
  {
   "cell_type": "code",
   "execution_count": null,
   "id": "ea657123",
   "metadata": {
    "height": 30,
    "tags": []
   },
   "outputs": [],
   "source": [
    "vectordb.persist()"
   ]
  },
  {
   "cell_type": "markdown",
   "id": "cefe9f6a",
   "metadata": {},
   "source": [
    "## Failure modes\n",
    "\n",
    "This seems great, and basic similarity search will get you 80% of the way there very easily. \n",
    "\n",
    "But there are some failure modes that can creep up. \n",
    "\n",
    "Here are some edge cases that can arise - we'll fix them in the next class."
   ]
  },
  {
   "cell_type": "code",
   "execution_count": null,
   "id": "df0f29f9",
   "metadata": {
    "height": 30,
    "tags": []
   },
   "outputs": [],
   "source": [
    "question = \"what did they say about matlab?\""
   ]
  },
  {
   "cell_type": "code",
   "execution_count": null,
   "id": "02be97df",
   "metadata": {
    "height": 30,
    "tags": []
   },
   "outputs": [],
   "source": [
    "docs = vectordb.similarity_search(question,k=5)"
   ]
  },
  {
   "cell_type": "markdown",
   "id": "2a9f579e",
   "metadata": {},
   "source": [
    "Notice that we're getting duplicate chunks (because of the duplicate `MachineLearning-Lecture01.pdf` in the index).\n",
    "\n",
    "Semantic search fetches all similar documents, but does not enforce diversity.\n",
    "\n",
    "`docs[0]` and `docs[1]` are indentical."
   ]
  },
  {
   "cell_type": "code",
   "execution_count": null,
   "id": "d39f6954",
   "metadata": {
    "height": 30,
    "tags": []
   },
   "outputs": [],
   "source": [
    "docs[0]"
   ]
  },
  {
   "cell_type": "code",
   "execution_count": null,
   "id": "e04e3d1b",
   "metadata": {
    "height": 30,
    "tags": []
   },
   "outputs": [],
   "source": [
    "docs[1]"
   ]
  },
  {
   "cell_type": "markdown",
   "id": "3a3a915d",
   "metadata": {},
   "source": [
    "We can see a new failure mode.\n",
    "\n",
    "The question below asks a question about the third lecture, but includes results from other lectures as well."
   ]
  },
  {
   "cell_type": "code",
   "execution_count": null,
   "id": "b19135e5",
   "metadata": {
    "height": 30,
    "tags": []
   },
   "outputs": [],
   "source": [
    "question = \"what did they say about regression in the third lecture?\""
   ]
  },
  {
   "cell_type": "code",
   "execution_count": null,
   "id": "d434942c",
   "metadata": {
    "height": 30,
    "tags": []
   },
   "outputs": [],
   "source": [
    "docs = vectordb.similarity_search(question,k=5)"
   ]
  },
  {
   "cell_type": "code",
   "execution_count": null,
   "id": "c2c5df59",
   "metadata": {
    "height": 47,
    "tags": []
   },
   "outputs": [],
   "source": [
    "for doc in docs:\n",
    "    print(doc.metadata)"
   ]
  },
  {
   "cell_type": "code",
   "execution_count": null,
   "id": "8e6cb50c",
   "metadata": {
    "height": 30,
    "tags": []
   },
   "outputs": [],
   "source": [
    "print(docs[4].page_content)"
   ]
  },
  {
   "cell_type": "markdown",
   "id": "c3dbca56",
   "metadata": {},
   "source": [
    "Approaches discussed in the next lecture can be used to address both!"
   ]
  },
  {
   "cell_type": "code",
   "execution_count": null,
   "id": "8cdc67ae-59e0-4a84-9fe6-e3a0391114d0",
   "metadata": {
    "height": 30
   },
   "outputs": [],
   "source": []
  }
 ],
 "metadata": {
  "kernelspec": {
   "display_name": "aidemo",
   "language": "python",
   "name": "aidemo"
  },
  "language_info": {
   "codemirror_mode": {
    "name": "ipython",
    "version": 3
   },
   "file_extension": ".py",
   "mimetype": "text/x-python",
   "name": "python",
   "nbconvert_exporter": "python",
   "pygments_lexer": "ipython3",
   "version": "3.11.5"
  }
 },
 "nbformat": 4,
 "nbformat_minor": 5
}
